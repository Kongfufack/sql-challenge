{
 "cells": [
  {
   "attachments": {},
   "cell_type": "markdown",
   "metadata": {},
   "source": [
    "Create All the tables"
   ]
  },
  {
   "cell_type": "code",
   "execution_count": null,
   "metadata": {},
   "outputs": [],
   "source": [
    "# Create Departments table\n",
    "CREATE TABLE Departments (\n",
    "  dept_no CHAR(4) NOT NULL,\n",
    "  dept_name VARCHAR(40) NOT NULL,\n",
    "  PRIMARY KEY (dept_no)\n",
    ");\n",
    "\n",
    "#Create Dept_emp table\n",
    "CREATE TABLE Dept_emp (\n",
    "  emp_no INT NOT NULL,\n",
    "  dept_no CHAR(4) NOT NULL,\n",
    "  PRIMARY KEY (emp_no, dept_no),\n",
    "  FOREIGN KEY (dept_no) REFERENCES Departments (dept_no)\n",
    ");\n",
    "\n",
    "#Create Titles table\n",
    "CREATE TABLE Titles (\n",
    "  title_id VARCHAR(50) NOT NULL,\n",
    "  title VARCHAR(50) NOT NULL,\n",
    "  PRIMARY KEY (title_id)\n",
    ");\n",
    "\n",
    "#Create Employees table\n",
    "CREATE TABLE Employees (\n",
    "  emp_no INT NOT NULL,\n",
    "  emp_title_id VARCHAR(50) NOT NULL,\n",
    "  birth_date VARCHAR NOT NULL,\n",
    "  first_name VARCHAR(14) NOT NULL,\n",
    "  last_name VARCHAR(16) NOT NULL,\n",
    "  sex CHAR(1) NOT NULL,\n",
    "  hire_date DATE NOT NULL,\n",
    "  PRIMARY KEY (emp_no),\n",
    "  FOREIGN KEY (emp_title_id) REFERENCES Titles (title_id)\n",
    ");\n",
    "\n",
    "\n",
    "#Create Dept_manager table\n",
    "CREATE TABLE Dept_manager (\n",
    "  dept_no CHAR(4) NOT NULL,\n",
    "  emp_no INT NOT NULL,\n",
    "  PRIMARY KEY (dept_no, emp_no),\n",
    "  FOREIGN KEY (dept_no) REFERENCES Departments (dept_no),\n",
    "  FOREIGN KEY (emp_no) REFERENCES Employees (emp_no)\n",
    ");\n",
    "\n",
    "#Create Salaries table\n",
    "CREATE TABLE Salaries (\n",
    "  emp_no INT NOT NULL,\n",
    "  salary INT NOT NULL,\n",
    "  PRIMARY KEY (emp_no, salary),\n",
    "  FOREIGN KEY (emp_no) REFERENCES Employees (emp_no)\n",
    ");"
   ]
  },
  {
   "attachments": {},
   "cell_type": "markdown",
   "metadata": {},
   "source": [
    "Data Analysis 1"
   ]
  },
  {
   "cell_type": "code",
   "execution_count": null,
   "metadata": {},
   "outputs": [],
   "source": [
    "SELECT Employees.emp_no, last_name, first_name, sex, salary\n",
    "FROM Employees\n",
    "JOIN Salaries ON Employees.emp_no = Salaries.emp_no;"
   ]
  },
  {
   "attachments": {},
   "cell_type": "markdown",
   "metadata": {},
   "source": [
    "Data Analysis 2"
   ]
  },
  {
   "attachments": {},
   "cell_type": "markdown",
   "metadata": {},
   "source": [
    "SELECT first_name, last_name, hire_date\n",
    "FROM Employees\n",
    "WHERE date_part('year', hire_date) = 1986;"
   ]
  },
  {
   "attachments": {},
   "cell_type": "markdown",
   "metadata": {},
   "source": [
    "Data Analysis 3"
   ]
  },
  {
   "cell_type": "code",
   "execution_count": null,
   "metadata": {},
   "outputs": [],
   "source": [
    "SELECT departments.dept_no, dept_name, Employees.emp_no, last_name, first_name\n",
    "FROM Departments\n",
    "JOIN Dept_manager ON Departments.dept_no = Dept_manager.dept_no\n",
    "JOIN Employees ON Employees.emp_no = Dept_manager.emp_no;"
   ]
  },
  {
   "attachments": {},
   "cell_type": "markdown",
   "metadata": {},
   "source": [
    "Data Analysis 4"
   ]
  },
  {
   "cell_type": "code",
   "execution_count": null,
   "metadata": {},
   "outputs": [],
   "source": [
    "SELECT departments.dept_no, Employees.emp_no, last_name, first_name, dept_name\n",
    "FROM Employees\n",
    "JOIN Dept_emp ON Employees.emp_no = Dept_emp.emp_no\n",
    "JOIN Departments ON Departments.dept_no = Dept_emp.dept_no;"
   ]
  },
  {
   "attachments": {},
   "cell_type": "markdown",
   "metadata": {},
   "source": [
    "Data Analysis 5"
   ]
  },
  {
   "cell_type": "code",
   "execution_count": null,
   "metadata": {},
   "outputs": [],
   "source": [
    "SELECT first_name, last_name, sex\n",
    "FROM Employees\n",
    "WHERE first_name = 'Hercules' AND last_name LIKE 'B%';"
   ]
  },
  {
   "attachments": {},
   "cell_type": "markdown",
   "metadata": {},
   "source": [
    "Data Analysis 6"
   ]
  },
  {
   "cell_type": "code",
   "execution_count": null,
   "metadata": {},
   "outputs": [],
   "source": [
    "SELECT Employees.emp_no, last_name, first_name\n",
    "FROM Employees\n",
    "JOIN Dept_emp ON Employees.emp_no = Dept_emp.emp_no\n",
    "JOIN Departments ON Departments.dept_no = Dept_emp.dept_no\n",
    "WHERE dept_name = 'Sales';"
   ]
  },
  {
   "attachments": {},
   "cell_type": "markdown",
   "metadata": {},
   "source": [
    "Data Analysis 7"
   ]
  },
  {
   "cell_type": "code",
   "execution_count": null,
   "metadata": {},
   "outputs": [],
   "source": [
    "SELECT Employees.emp_no, last_name, first_name, dept_name\n",
    "FROM Employees\n",
    "JOIN Dept_emp ON Employees.emp_no = Dept_emp.emp_no\n",
    "JOIN Departments ON Departments.dept_no = Dept_emp.dept_no\n",
    "WHERE dept_name IN ('Sales', 'Development');"
   ]
  },
  {
   "attachments": {},
   "cell_type": "markdown",
   "metadata": {},
   "source": [
    "Data Analysis 8"
   ]
  },
  {
   "cell_type": "code",
   "execution_count": null,
   "metadata": {},
   "outputs": [],
   "source": [
    "SELECT last_name, COUNT(*) as frequency\n",
    "FROM Employees\n",
    "GROUP BY last_name\n",
    "ORDER BY frequency DESC;"
   ]
  }
 ],
 "metadata": {
  "kernelspec": {
   "display_name": "PythonData",
   "language": "python",
   "name": "python3"
  },
  "language_info": {
   "name": "python",
   "version": "3.7.7"
  },
  "orig_nbformat": 4,
  "vscode": {
   "interpreter": {
    "hash": "06c6c2d3b9e582d2fa29b5311472f89e606479085b029d75ea84c940e1c1cf43"
   }
  }
 },
 "nbformat": 4,
 "nbformat_minor": 2
}
